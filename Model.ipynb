{
 "cells": [
  {
   "cell_type": "markdown",
   "metadata": {},
   "source": [
    "# **1. IMPORT MODULES**"
   ]
  },
  {
   "cell_type": "code",
   "execution_count": 1,
   "metadata": {},
   "outputs": [],
   "source": [
    "import matplotlib.pyplot as plt\n",
    "import seaborn as sns\n",
    "import pandas as pd\n",
    "import numpy as np\n",
    "from numpy import argmax\n",
    "\n",
    "import string \n",
    "import nltk\n",
    "import re\n",
    "\n",
    "# nltk.download('stopwords')\n",
    "# nltk.download('punkt')\n",
    "# nltk.download('wordnet')\n",
    "\n",
    "from nltk.tokenize import sent_tokenize, word_tokenize\n",
    "from nltk.corpus import stopwords\n",
    "from nltk.stem import WordNetLemmatizer\n",
    "from autocorrect import Speller\n",
    "\n",
    "from copy import deepcopy\n",
    "from sklearn.base import clone\n",
    "from sklearn.metrics import brier_score_loss\n",
    "from sklearn.model_selection import train_test_split\n",
    "from sklearn.pipeline import Pipeline, FeatureUnion\n",
    "from sklearn.feature_extraction.text import TfidfVectorizer\n",
    "from sklearn.impute import SimpleImputer\n",
    "from sklearn.base import BaseEstimator,TransformerMixin\n",
    "\n",
    "from joblib import parallel_backend\n",
    "\n",
    "from sklearn.svm import SVC\n",
    "\n",
    "from skopt import BayesSearchCV\n",
    "\n",
    "from sklearn.calibration import CalibratedClassifierCV,calibration_curve\n",
    "\n",
    "from sklearn.metrics import confusion_matrix,f1_score,classification_report,precision_recall_curve"
   ]
  },
  {
   "cell_type": "markdown",
   "metadata": {},
   "source": [
    "# **2. DATA**"
   ]
  },
  {
   "cell_type": "code",
   "execution_count": 2,
   "metadata": {},
   "outputs": [
    {
     "name": "stdout",
     "output_type": "stream",
     "text": [
      "<class 'pandas.core.frame.DataFrame'>\n",
      "RangeIndex: 31962 entries, 0 to 31961\n",
      "Data columns (total 3 columns):\n",
      " #   Column  Non-Null Count  Dtype \n",
      "---  ------  --------------  ----- \n",
      " 0   id      31962 non-null  int64 \n",
      " 1   label   31962 non-null  int64 \n",
      " 2   tweet   31962 non-null  object\n",
      "dtypes: int64(2), object(1)\n",
      "memory usage: 749.2+ KB\n"
     ]
    }
   ],
   "source": [
    "df = pd.read_csv(\"./train.csv\") # load data\n",
    "df.info()                       "
   ]
  },
  {
   "cell_type": "code",
   "execution_count": 3,
   "metadata": {},
   "outputs": [],
   "source": [
    "df.drop(\"id\",axis = 1,inplace=True) # Drop id column"
   ]
  },
  {
   "cell_type": "code",
   "execution_count": 4,
   "metadata": {},
   "outputs": [
    {
     "name": "stdout",
     "output_type": "stream",
     "text": [
      "<class 'pandas.core.frame.DataFrame'>\n",
      "Int64Index: 29530 entries, 0 to 31961\n",
      "Data columns (total 2 columns):\n",
      " #   Column  Non-Null Count  Dtype \n",
      "---  ------  --------------  ----- \n",
      " 0   label   29530 non-null  int64 \n",
      " 1   tweet   29530 non-null  object\n",
      "dtypes: int64(1), object(1)\n",
      "memory usage: 692.1+ KB\n"
     ]
    }
   ],
   "source": [
    "df = df.drop_duplicates() # Drop all duplicates\n",
    "df.info()"
   ]
  },
  {
   "cell_type": "code",
   "execution_count": 5,
   "metadata": {},
   "outputs": [],
   "source": [
    "X = df.iloc[:,1:] # tweets\n",
    "y = df.iloc[:,:1] # labels"
   ]
  },
  {
   "cell_type": "code",
   "execution_count": 6,
   "metadata": {},
   "outputs": [],
   "source": [
    "# Split data into:\n",
    "# 60% - train set      - used to train data\n",
    "# 20% - validation set - validate models\n",
    "# 20% - test set       - final test\n",
    "\n",
    "X_train, X_test, y_train, y_test = train_test_split(X, y, test_size=0.2, random_state=1)\n",
    "X_train, X_val, y_train, y_val = train_test_split(X_train, y_train, test_size=0.25, random_state=1) # 0.25 x 0.8 = 0.2"
   ]
  },
  {
   "cell_type": "markdown",
   "metadata": {},
   "source": [
    "# **3. DATA PREPROCESSOR**"
   ]
  },
  {
   "cell_type": "code",
   "execution_count": 7,
   "metadata": {},
   "outputs": [],
   "source": [
    "\"\"\"\n",
    "    Custom transformer\n",
    "    Expand dataframe with new features which may have sentimental value.\n",
    "    Custom transformers will inherit pre-existing methods from BaseEstimator and TransformerMixin classes.\n",
    "\"\"\"\n",
    "class FeaturesExpander(BaseEstimator, TransformerMixin):\n",
    "    \"\"\"\n",
    "        @Param [TEXT_COL] - Column containing tweets\n",
    "    \"\"\"\n",
    "    def __init__(self,TEXT_COL):\n",
    "        self.__wordstop = stopwords.words(\"english\")\n",
    "        self.__WHITESPACE = \" \"\n",
    "        self.TEXT_COL = TEXT_COL\n",
    "    \"\"\"\n",
    "        Counting words in tweet\n",
    "        @Param [text] - tweet\n",
    "        @Return       - New feature\n",
    "    \"\"\"\n",
    "    def __WordCount(self,text):\n",
    "        return len(text.split(self.__WHITESPACE))\n",
    "    \"\"\"\n",
    "        Counting average word length in tweet\n",
    "        @Param [text] - tweet\n",
    "        @Return       - New feature\n",
    "    \"\"\"\n",
    "    def __AvgWordLength(self, text):\n",
    "        return np.mean([len(word) for word in text.split()])\n",
    "    \"\"\"\n",
    "        Counting stop words in tweet\n",
    "        @Param [text] - tweet\n",
    "        @Return       - New feature\n",
    "    \"\"\"\n",
    "    def __StopwordsCount(self, text):\n",
    "        return len([word for word in text.split() if word in self.__wordstop])\n",
    "    \"\"\"\n",
    "        Counting uppercase words in tweet\n",
    "        @Param [text] - tweet\n",
    "        @Return       - New feature\n",
    "    \"\"\"\n",
    "    def __UppercaseCount(self, text):    \n",
    "        return len([word for word in text.split() if word.isupper()])\n",
    "    \"\"\"\n",
    "        Counting numeric in tweet\n",
    "        @Param [text] - tweet\n",
    "        @Return       - New feature\n",
    "    \"\"\"\n",
    "    def __NumericCount(self, text):\n",
    "        return len([word for word in text.split() if word.isdigit()])\n",
    "    \"\"\"\n",
    "        Counting hashtags in tweet\n",
    "        @Param [text] - tweet\n",
    "        @Return       - New feature\n",
    "    \"\"\"\n",
    "    def __HashtagCount(self, text):\n",
    "        return len([word for word in text.split() if word.startswith(\"#\")])\n",
    "    \"\"\"\n",
    "        Counting mentions in tweet\n",
    "        @Param [text] - tweet\n",
    "        @Return       - New feature\n",
    "    \"\"\"\n",
    "    def __MentionCount(self, text):\n",
    "        return len([word for word in text.split() if word.startswith(\"@\")])\n",
    "    \"\"\"\n",
    "        Counting special characters (emojis,unicodechars,etc..) in tweet\n",
    "        @Param [text] - tweet\n",
    "        @Return       - New feature\n",
    "    \"\"\"\n",
    "    def __SpecialCount(selft,text):\n",
    "        R = \"[\\u0080-\\uFFFF]+\" # match any UTF-8 character not in the range of the first 128 characters\n",
    "        return len([word for word in re.findall(R,text)])\n",
    "    \"\"\"\n",
    "        Expand dataframe with new features \n",
    "        @Param [df] - dataframe\n",
    "        @Return     - New dataframe with new features\n",
    "    \"\"\"\n",
    "    def __Expand(self,df):\n",
    "        df[\"Words\"] = df[self.TEXT_COL].apply(self.__WordCount)\n",
    "        df[\"Avg_Word_Lenght\"] = df[self.TEXT_COL].apply(self.__AvgWordLength)\n",
    "        df[\"Stopwords\"] = df[self.TEXT_COL].apply(self.__StopwordsCount)\n",
    "        df[\"Uppercase\"] = df[self.TEXT_COL].apply(self.__UppercaseCount)\n",
    "        df[\"Numeric\"] = df[self.TEXT_COL].apply(self.__NumericCount)\n",
    "        df[\"Hashtags\"] = df[self.TEXT_COL].apply(self.__HashtagCount)\n",
    "        df[\"Mentions\"] = df[self.TEXT_COL].apply(self.__MentionCount)\n",
    "        df[\"Special_Unicode\"] = df[self.TEXT_COL].apply(self.__SpecialCount)\n",
    "        return df\n",
    "    \"\"\"\n",
    "        Transform data. Expand tweet dataframe with new features.\n",
    "        @Param [X] - tweet dataframe\n",
    "        @Param [y] - Default: None\n",
    "                   - label column\n",
    "        @Return    - New dataframe with new features\n",
    "    \"\"\"\n",
    "    def transform(self, X, y = None):\n",
    "        return self.__Expand(X.copy()) \n",
    "    \"\"\"\n",
    "        @Param [X] - tweet dataframe\n",
    "        @Param [y] - Default: None\n",
    "                   - label column\n",
    "        @Return    - Itself\n",
    "    \"\"\"\n",
    "    def fit(self, X, y = None):\n",
    "        return self"
   ]
  },
  {
   "cell_type": "code",
   "execution_count": 8,
   "metadata": {},
   "outputs": [],
   "source": [
    "\"\"\"\n",
    "    Custom transformer\n",
    "    Clean text.\n",
    "    Custom transformers will inherit pre-existing methods from BaseEstimator and TransformerMixin classes.\n",
    "\"\"\"\n",
    "class Preprocessor(BaseEstimator, TransformerMixin):\n",
    "    def __init__(self):\n",
    "        self.__Lemmatizer = WordNetLemmatizer()\n",
    "        self.__wordstop = stopwords.words(\"english\")\n",
    "        self.__Spell = Speller()\n",
    "        self.__WHITESPACE = \" \"\n",
    "        self.__EMPTY_STRING = \"\"\n",
    "    \"\"\"\n",
    "        Clean text to words only\n",
    "        @Param [text] - tweet\n",
    "        @Return       - Cleaned tweet\n",
    "    \"\"\"\n",
    "    def __CleanText(self, text):\n",
    "        REGEX = [\n",
    "            \"\\n\\t\",                  # new lines, tabs \n",
    "            \"https?://\\S+|www\\.\\S+\", # URL = http,https,www #pattern = with or without(http),://, one or more non-white space character, OR www, .,one or more non-white space character\n",
    "            \"@[\\w\\-]+\",              # MENTION = Tweet mention\n",
    "            \"<.*?>+|\\[.*?\\]\",        # ATTRIBUTES = <zero or more characters> or [zero or more character]\n",
    "            \"\\w*\\d\\w*\"               # NUMBERS = any from[a-zA-Z0-9_], any from[0-9], any from [a-zA-Z0-9_]\n",
    "        ]  \n",
    "        for R in REGEX: \n",
    "            text = re.sub(R, self.__EMPTY_STRING, text)\n",
    "\n",
    "        return text.strip().encode(\"ascii\", \"ignore\").decode(\"ascii\") # Remove emojis and strip text\n",
    "    \"\"\"\n",
    "        @Param [text] - tweet\n",
    "        @Return       - Cleaned tweet\n",
    "    \"\"\"\n",
    "    def __Lemmatize(self, text):\n",
    "        lemmatized = [self.__Lemmatizer.lemmatize(word) for word in nltk.word_tokenize(text)]\n",
    "        return self.__WHITESPACE.join(lemmatized) \n",
    "    \"\"\"\n",
    "        @Param [text] - tweet\n",
    "        @Return       - Cleaned tweet\n",
    "    \"\"\"\n",
    "    def __RemStopwords(self, text):\n",
    "        noStopwords = [word for word in nltk.word_tokenize(text) if not word in self.__wordstop]\n",
    "        return self.__WHITESPACE.join(noStopwords) \n",
    "    \"\"\"\n",
    "        Correct the spelling of the word.\n",
    "        @Param [text] - tweet\n",
    "        @Return       - Cleaned tweet\n",
    "    \"\"\"\n",
    "    def __Autocorrect(self, text):  \n",
    "        spells = [self.__Spell(word) for word in (nltk.word_tokenize(text))]\n",
    "        return self.__WHITESPACE.join(spells) \n",
    "    \"\"\"\n",
    "        @Param [text] - tweet\n",
    "        @Return       - Cleaned tweet\n",
    "    \"\"\"\n",
    "    def __RemPunctuation(self, text):\n",
    "        REGEX_PUNCTUATION = \"[%s]\" # any punctuation\n",
    "        return re.sub(REGEX_PUNCTUATION % re.escape(string.punctuation),self.__EMPTY_STRING, text)\n",
    "    \"\"\"\n",
    "        Clean tweets to bag of words\n",
    "        @Param [text] - tweet\n",
    "        @Return       - Cleaned tweet\n",
    "    \"\"\"\n",
    "    def __SimpleClean(self,text):\n",
    "        text = text.lower() \n",
    "        sentenceToken = nltk.sent_tokenize(text)\n",
    "        words = []\n",
    "        for sentence in sentenceToken:\n",
    "            cleaned = self.__CleanText(sentence)\n",
    "            corrected = self.__Autocorrect(cleaned)\n",
    "            noStopwords = self.__RemStopwords(corrected)\n",
    "            noPunct = self.__RemPunctuation(noStopwords)\n",
    "            lemmatizzed = self.__Lemmatize(noPunct)\n",
    "\n",
    "            wordToken = nltk.word_tokenize(lemmatizzed)\n",
    "            for word in wordToken:\n",
    "                words.append(word)\n",
    "\n",
    "        return self.__WHITESPACE.join(words)\n",
    "    \"\"\"\n",
    "        Transform data. Clean tweets\n",
    "        @Param [X] - tweet dataframe\n",
    "        @Param [y] - Default: None\n",
    "                   - label column\n",
    "        @Return    - New dataframe with cleaned tweet\n",
    "    \"\"\"\n",
    "    def transform(self, X, y = None):\n",
    "        return X.copy().apply(self.__SimpleClean)\n",
    "    \"\"\"\n",
    "        @Param [X] - tweet dataframe\n",
    "        @Param [y] - Default: None\n",
    "                   - label column\n",
    "        @Return    - Itself\n",
    "    \"\"\"  \n",
    "    def fit(self, X, y = None):\n",
    "        return self"
   ]
  },
  {
   "cell_type": "code",
   "execution_count": 9,
   "metadata": {},
   "outputs": [],
   "source": [
    "\"\"\"\n",
    "    Custom transformer\n",
    "    Remove most frequent and most rare words\n",
    "    Custom transformers will inherit pre-existing methods from BaseEstimator and TransformerMixin classes.\n",
    "\"\"\"\n",
    "class FrequentWords(BaseEstimator, TransformerMixin):\n",
    "    def __init__(self):\n",
    "        self.__WORDS_MAX = 10 # Delete top 10 frequent words\n",
    "        self.__WORDS_MIN = 0 \n",
    "        self.__WORDS_MIN_PERCENTAGE = 0.75 # Delete 75% od rare words\n",
    "        self.__WHITESPACE = \" \"\n",
    "        self.__most = []\n",
    "        self.__rare = []\n",
    "    \"\"\"\n",
    "        Remove most frequent and most rare words, if tweet is empty after removal don\"t remove words from tweet\n",
    "        @Param [source] - tweet\n",
    "        @Param [source] - words to delete\n",
    "        @Return         - modified tweet or previous tweet\n",
    "    \"\"\"\n",
    "    def __RemWords(self, source, words):\n",
    "        removed = []\n",
    "        for sentence in source:\n",
    "            newSentence = []\n",
    "            for word in sentence.split():\n",
    "                if word not in words:\n",
    "                    newSentence.append(word)\n",
    "            if len(newSentence) == 0:\n",
    "                removed.append(sentence)\n",
    "            else:\n",
    "                removed.append(self.__WHITESPACE.join(newSentence))\n",
    "        return removed\n",
    "    \"\"\"\n",
    "        Extract most rare words \n",
    "        @Param [frequent] - all words with frequency\n",
    "        @Return           - most rare words\n",
    "    \"\"\"\n",
    "    def __GetWordsMin(self,frequent):\n",
    "        rareLen = len(frequent[frequent == 1])\n",
    "        return int(self.__WORDS_MIN_PERCENTAGE * rareLen)\n",
    "    \"\"\"\n",
    "        Handles removing words\n",
    "        @Param [tweet] \n",
    "        @Return        - new tweet\n",
    "    \"\"\"\n",
    "    def __Remove(self,tweet):\n",
    "        frequent = pd.Series(self.__WHITESPACE.join(tweet).split()).value_counts()\n",
    "        self.__most = frequent[:self.__WORDS_MAX]\n",
    "\n",
    "        self.__WORDS_MIN = self.__GetWordsMin(frequent)\n",
    "        self.__rare = frequent[-1 * self.__WORDS_MIN:]\n",
    "\n",
    "        tweet = self.__RemWords(tweet,list(self.__most.index)) \n",
    "        tweet = self.__RemWords(tweet,list(self.__rare.index))\n",
    "\n",
    "        return tweet\n",
    "    \"\"\"\n",
    "        Transform data. Remove frequent words\n",
    "        @Param [X] - tweet dataframe\n",
    "        @Param [y] - Default: None\n",
    "                   - label column\n",
    "        @Return    - New dataframe with cleaned tweet\n",
    "    \"\"\"\n",
    "    def transform(self, X, y = None):\n",
    "        return self.__Remove(X.copy())\n",
    "    \"\"\"\n",
    "        @Param [X] - tweet dataframe\n",
    "        @Param [y] - Default: None\n",
    "                   - label column\n",
    "        @Return    - Itself\n",
    "    \"\"\"   \n",
    "    def fit(self, X, y = None):\n",
    "        return self\n",
    "    \"\"\"\n",
    "        Show most rare and most frequent words\n",
    "    \"\"\"\n",
    "    def Show(self):\n",
    "        print(\"{0} Most Frequent Words:\".format(self.__WORDS_MAX))\n",
    "        print(self.__most,\"\\n\")\n",
    "        print(\"{0} ({1} %) Most Rare Words:\".format(self.__WORDS_MIN,self.__WORDS_MIN_PERCENTAGE*100))\n",
    "        print(self.__rare)"
   ]
  },
  {
   "cell_type": "markdown",
   "metadata": {},
   "source": [
    "# **4. PREPROCESSING PIPELINE**"
   ]
  },
  {
   "cell_type": "code",
   "execution_count": 10,
   "metadata": {},
   "outputs": [],
   "source": [
    "\"\"\"\n",
    "    Custom transformer\n",
    "    Select only specified column\n",
    "    Custom transformers will inherit pre-existing methods from BaseEstimator and TransformerMixin classes.\n",
    "\"\"\"\n",
    "class ItemSelector(BaseEstimator, TransformerMixin):\n",
    "    def __init__(self, key):\n",
    "        self.key = key\n",
    "    \"\"\"\n",
    "        Transform data. Select only specified column\n",
    "        @Param [data_dict] - tweet dataframe\n",
    "        @Param [y] - Default: None\n",
    "                   - label column\n",
    "        @Return    - Specified tweet\n",
    "    \"\"\"\n",
    "    def transform(self, data_dict,y=None):\n",
    "        return data_dict[self.key]\n",
    "    \"\"\"\n",
    "        @Param [X] - tweet dataframe\n",
    "        @Param [y] - Default: None\n",
    "                   - label column\n",
    "        @Return    - Itself\n",
    "    \"\"\"  \n",
    "    def fit(self, x, y=None):\n",
    "        return self\n",
    "\n",
    "textPreprocessing = Pipeline([                         # Tweet preprocessing pipeline\n",
    "    (\"clear\",Preprocessor()),                          # Clear text\n",
    "    (\"remFreq\",FrequentWords()),                       # Remove frequent words\n",
    "    (\"tfidf\",TfidfVectorizer(ngram_range = (1,2)))     # Equivalent to:\n",
    "                                                       # (\"bow\", CountVectorizer(ngram_range = (1,2))),   # strings to token integer counts CountVectorizer(min_df=1,max_df=2)\n",
    "                                                       # (\"tfidf\", TfidfTransformer()),                   # integer counts to weighted TF-IDF scores\n",
    "])\n",
    "\n",
    "numericalPreprocessing = Pipeline([                                 # Numeric preprocessing pipeline\n",
    "    (\"NANs\", SimpleImputer(missing_values=np.nan, strategy=\"mean\")) # Deal with nan values\n",
    "])     \n",
    "\n",
    "textCol = [\"tweet\"] # Tweet column\n",
    "numericalCol = [\"Words\",\"Avg_Word_Lenght\",\"Stopwords\",\"Uppercase\",\"Numeric\",\"Hashtags\",\"Mentions\",\"Special_Unicode\"] # Numeric columns\n",
    "\n",
    "preprocess = FeatureUnion([                              # Put preprocessors in pipeline\n",
    "    (\"text\", Pipeline([\n",
    "        (\"selectorTweet\", ItemSelector(key=textCol[0])), # Select tweet columns\n",
    "        (\"textPreprocessing\", textPreprocessing)         # Text preprocessing pipeline\n",
    "    ])),\n",
    "    (\"num\", Pipeline([                                   \n",
    "       (\"selectorNum\", ItemSelector(key=numericalCol)),  # Select numeric columns\n",
    "       (\"numPreprocessing\", numericalPreprocessing)      # Preprocess numerics\n",
    "       ])\n",
    "    )\n",
    "])   \n",
    "\n",
    "preprocessingPip = Pipeline([                   # Create preprocessing pipeline\n",
    "    (\"expander\", FeaturesExpander(textCol[0])), # Expand features\n",
    "    (\"preprocess\", preprocess)                  # Preprocess features\n",
    "])"
   ]
  },
  {
   "cell_type": "code",
   "execution_count": 11,
   "metadata": {},
   "outputs": [],
   "source": [
    "model = Pipeline([\n",
    "                (\"preprocess\",preprocessingPip),\n",
    "                (\"clf\",SVC(probability=True))\n",
    "])"
   ]
  },
  {
   "cell_type": "markdown",
   "metadata": {},
   "source": [
    "# **8. HYPERPARAMETER TUNNING**"
   ]
  },
  {
   "cell_type": "code",
   "execution_count": 12,
   "metadata": {},
   "outputs": [],
   "source": [
    "\"\"\"\n",
    "    @Param [preprocessPip]\n",
    "    @Param [x]                  - Tweets to preprocess\n",
    "    @Param Optional [transform] - Transform model instead fit_transform\n",
    "    @Return                     - Preprocessed X\n",
    "\"\"\"\n",
    "def preProcessTweets(preprocessPip,x,transform = False):\n",
    "    print(\"Preprocessing tweets...\")  \n",
    "    with parallel_backend(\"threading\", n_jobs=-1):      # Using threading\n",
    "        if transform:\n",
    "            return deepcopy(preprocessPip).transform(x) # Deep copy makes sure to not modify preprocessing pipeline\n",
    "        else:\n",
    "            return preprocessPip.fit_transform(x)\n",
    "\n",
    "\"\"\"\n",
    "    Tune best hyperparamters\n",
    "    @Param [search]   - Tunning algorithm\n",
    "    @Param [x]        - Validation data features\n",
    "    @Param [y]        - Validation data label\n",
    "    @Return           - Search method\n",
    "\"\"\"\n",
    "def fitSearch(search,x,y):\n",
    "    with parallel_backend(\"threading\", n_jobs=-1): # Using threading\n",
    "        search.fit(x, y)\n",
    "    print(\"\\nBest Score: {0}\".format(search.best_score_))\n",
    "    print(\"Best Hyperparameters:\\n{0}\".format(search.best_params_))\n",
    "\n",
    "    return search\n",
    "\n",
    "\"\"\"\n",
    "    Compare Randomized search and Bayes search based on neg_brier_score. Return best hyperparameters.\n",
    "    @Param [modelPip] - Model in pipeline\n",
    "    @Param [grid]     - Hyperparameters gird\n",
    "    @Param [x]        - Validation data features\n",
    "    @Param [y]        - Validation data label\n",
    "    @Return           - Tunned model in pipeline\n",
    "\"\"\"\n",
    "def tuneParams(modelPip,grid,x,y): \n",
    "    newX = preProcessTweets(clone(modelPip[\"preprocess\"]),x)\n",
    "    \n",
    "    bayesSearch = BayesSearchCV(estimator = clone(modelPip[\"clf\"]), \n",
    "                                search_spaces = grid, \n",
    "                                n_iter = 50, \n",
    "                                cv = 3, \n",
    "                                verbose=2, \n",
    "                                random_state=42,\n",
    "                                scoring=\"neg_brier_score\")\n",
    "\n",
    "    print(\"\\nStarting Bayes Search...\")\n",
    "    bayesSearch = fitSearch(bayesSearch,newX,y) \n",
    "\n",
    "    return clone(Pipeline([ # cloning\n",
    "                (\"preprocess\",modelPip[\"preprocess\"]),\n",
    "                (\"clf\",bayesSearch.best_estimator_)\n",
    "        ])) "
   ]
  },
  {
   "cell_type": "code",
   "execution_count": 13,
   "metadata": {},
   "outputs": [
    {
     "data": {
      "text/plain": [
       "{'C': [0.1, 1, 10, 100, 1000],\n",
       " 'kernel': ['linear', 'rbf', 'sigmoid', 'poly'],\n",
       " 'gamma': [1, 0.1, 0.01, 0.001, 0.0001]}"
      ]
     },
     "execution_count": 13,
     "metadata": {},
     "output_type": "execute_result"
    }
   ],
   "source": [
    "gridSVC = {\n",
    "  \"C\": [0.1, 1, 10, 100, 1000],                  # Penalty\n",
    "  \"kernel\": [\"linear\",\"rbf\",\"sigmoid\",\"poly\"],   # Hyperplane used to separate the data\n",
    "  \"gamma\": [1, 0.1 ,0.01, 0.001, 0.0001]         # Tries to exactly fit the training data set\n",
    "}\n",
    "\n",
    "gridSVC # Display gird"
   ]
  },
  {
   "cell_type": "code",
   "execution_count": 14,
   "metadata": {},
   "outputs": [
    {
     "name": "stdout",
     "output_type": "stream",
     "text": [
      "Preprocessing tweets...\n",
      "\n",
      "Starting Bayes Search...\n",
      "Fitting 3 folds for each of 1 candidates, totalling 3 fits\n",
      "[CV] END ..................C=10.0, gamma=0.1, kernel=sigmoid; total time=  15.5s\n",
      "[CV] END ..................C=10.0, gamma=0.1, kernel=sigmoid; total time=  14.9s\n",
      "[CV] END ..................C=10.0, gamma=0.1, kernel=sigmoid; total time=  17.1s\n",
      "Fitting 3 folds for each of 1 candidates, totalling 3 fits\n",
      "[CV] END ....................C=100.0, gamma=1.0, kernel=poly; total time= 1.6min\n",
      "[CV] END ....................C=100.0, gamma=1.0, kernel=poly; total time= 1.8min\n",
      "[CV] END ....................C=100.0, gamma=1.0, kernel=poly; total time=30.5min\n",
      "Fitting 3 folds for each of 1 candidates, totalling 3 fits\n",
      "[CV] END ...................C=10.0, gamma=1.0, kernel=linear; total time= 4.4min\n",
      "[CV] END ...................C=10.0, gamma=1.0, kernel=linear; total time= 4.9min\n",
      "[CV] END ...................C=10.0, gamma=1.0, kernel=linear; total time= 5.6min\n",
      "Fitting 3 folds for each of 1 candidates, totalling 3 fits\n",
      "[CV] END ...................C=100.0, gamma=0.001, kernel=rbf; total time= 1.1min\n",
      "[CV] END ...................C=100.0, gamma=0.001, kernel=rbf; total time= 1.1min\n",
      "[CV] END ...................C=100.0, gamma=0.001, kernel=rbf; total time= 1.1min\n",
      "Fitting 3 folds for each of 1 candidates, totalling 3 fits\n",
      "[CV] END ....................C=100.0, gamma=0.01, kernel=rbf; total time= 2.0min\n",
      "[CV] END ....................C=100.0, gamma=0.01, kernel=rbf; total time= 2.5min\n",
      "[CV] END ....................C=100.0, gamma=0.01, kernel=rbf; total time= 1.9min\n",
      "Fitting 3 folds for each of 1 candidates, totalling 3 fits\n",
      "[CV] END ..................C=100.0, gamma=1.0, kernel=linear; total time= 6.4min\n",
      "[CV] END ..................C=100.0, gamma=1.0, kernel=linear; total time= 5.6min\n",
      "[CV] END ..................C=100.0, gamma=1.0, kernel=linear; total time= 7.2min\n",
      "Fitting 3 folds for each of 1 candidates, totalling 3 fits\n",
      "[CV] END .....................C=10.0, gamma=0.1, kernel=poly; total time= 1.8min\n",
      "[CV] END .....................C=10.0, gamma=0.1, kernel=poly; total time= 2.0min\n",
      "[CV] END .....................C=10.0, gamma=0.1, kernel=poly; total time= 1.9min\n",
      "Fitting 3 folds for each of 1 candidates, totalling 3 fits\n",
      "[CV] END .....................C=10.0, gamma=1.0, kernel=poly; total time= 1.9min\n",
      "[CV] END .....................C=10.0, gamma=1.0, kernel=poly; total time= 1.9min\n",
      "[CV] END .....................C=10.0, gamma=1.0, kernel=poly; total time= 2.0min\n",
      "Fitting 3 folds for each of 1 candidates, totalling 3 fits\n",
      "[CV] END ................C=1000.0, gamma=0.1, kernel=sigmoid; total time=  19.3s\n",
      "[CV] END ................C=1000.0, gamma=0.1, kernel=sigmoid; total time=  17.2s\n",
      "[CV] END ................C=1000.0, gamma=0.1, kernel=sigmoid; total time=  19.9s\n",
      "Fitting 3 folds for each of 1 candidates, totalling 3 fits\n",
      "[CV] END .......................C=0.1, gamma=0.1, kernel=rbf; total time= 1.5min\n",
      "[CV] END .......................C=0.1, gamma=0.1, kernel=rbf; total time= 1.4min\n",
      "[CV] END .......................C=0.1, gamma=0.1, kernel=rbf; total time= 1.4min\n",
      "Fitting 3 folds for each of 1 candidates, totalling 3 fits\n",
      "[CV] END ................C=100.0, gamma=0.01, kernel=sigmoid; total time=  20.6s\n",
      "[CV] END ................C=100.0, gamma=0.01, kernel=sigmoid; total time=  18.5s\n",
      "[CV] END ................C=100.0, gamma=0.01, kernel=sigmoid; total time=  18.3s\n",
      "Fitting 3 folds for each of 1 candidates, totalling 3 fits\n",
      "[CV] END ...................C=10.0, gamma=0.1, kernel=linear; total time= 4.4min\n",
      "[CV] END ...................C=10.0, gamma=0.1, kernel=linear; total time= 4.8min\n",
      "[CV] END ...................C=10.0, gamma=0.1, kernel=linear; total time= 5.4min\n",
      "Fitting 3 folds for each of 1 candidates, totalling 3 fits\n",
      "[CV] END ..................C=1.0, gamma=0.001, kernel=linear; total time= 3.4min\n",
      "[CV] END ..................C=1.0, gamma=0.001, kernel=linear; total time= 3.2min\n",
      "[CV] END ..................C=1.0, gamma=0.001, kernel=linear; total time= 3.3min\n",
      "Fitting 3 folds for each of 1 candidates, totalling 3 fits\n",
      "[CV] END ................C=1000.0, gamma=0.01, kernel=linear; total time= 3.6min\n",
      "[CV] END ................C=1000.0, gamma=0.01, kernel=linear; total time= 4.3min\n",
      "[CV] END ................C=1000.0, gamma=0.01, kernel=linear; total time= 5.2min\n",
      "Fitting 3 folds for each of 1 candidates, totalling 3 fits\n",
      "[CV] END .................C=0.1, gamma=0.0001, kernel=linear; total time= 2.3min\n",
      "[CV] END .................C=0.1, gamma=0.0001, kernel=linear; total time= 2.1min\n",
      "[CV] END .................C=0.1, gamma=0.0001, kernel=linear; total time= 2.2min\n",
      "Fitting 3 folds for each of 1 candidates, totalling 3 fits\n",
      "[CV] END .....................C=10.0, gamma=0.01, kernel=rbf; total time= 1.2min\n",
      "[CV] END .....................C=10.0, gamma=0.01, kernel=rbf; total time= 1.2min\n",
      "[CV] END .....................C=10.0, gamma=0.01, kernel=rbf; total time= 1.2min\n",
      "Fitting 3 folds for each of 1 candidates, totalling 3 fits\n",
      "[CV] END ..................C=100.0, gamma=0.0001, kernel=rbf; total time= 1.1min\n",
      "[CV] END ..................C=100.0, gamma=0.0001, kernel=rbf; total time= 1.3min\n",
      "[CV] END ..................C=100.0, gamma=0.0001, kernel=rbf; total time= 1.3min\n",
      "Fitting 3 folds for each of 1 candidates, totalling 3 fits\n",
      "[CV] END ......................C=1.0, gamma=0.01, kernel=rbf; total time= 1.2min\n",
      "[CV] END ......................C=1.0, gamma=0.01, kernel=rbf; total time= 1.4min\n",
      "[CV] END ......................C=1.0, gamma=0.01, kernel=rbf; total time= 1.2min\n",
      "Fitting 3 folds for each of 1 candidates, totalling 3 fits\n",
      "[CV] END ...................C=1000.0, gamma=0.01, kernel=rbf; total time= 2.0min\n",
      "[CV] END ...................C=1000.0, gamma=0.01, kernel=rbf; total time= 2.5min\n",
      "[CV] END ...................C=1000.0, gamma=0.01, kernel=rbf; total time= 1.9min\n",
      "Fitting 3 folds for each of 1 candidates, totalling 3 fits\n",
      "[CV] END .....................C=100.0, gamma=1.0, kernel=rbf; total time= 4.8min\n",
      "[CV] END .....................C=100.0, gamma=1.0, kernel=rbf; total time= 4.9min\n",
      "[CV] END .....................C=100.0, gamma=1.0, kernel=rbf; total time= 4.9min\n",
      "Fitting 3 folds for each of 1 candidates, totalling 3 fits\n",
      "[CV] END .................C=100.0, gamma=0.0001, kernel=poly; total time=  19.5s\n",
      "[CV] END .................C=100.0, gamma=0.0001, kernel=poly; total time=  19.1s\n",
      "[CV] END .................C=100.0, gamma=0.0001, kernel=poly; total time=  18.8s\n",
      "Fitting 3 folds for each of 1 candidates, totalling 3 fits\n",
      "[CV] END ..................C=100.0, gamma=0.001, kernel=poly; total time= 1.5min\n",
      "[CV] END ..................C=100.0, gamma=0.001, kernel=poly; total time= 1.5min\n",
      "[CV] END ..................C=100.0, gamma=0.001, kernel=poly; total time= 1.5min\n",
      "Fitting 3 folds for each of 1 candidates, totalling 3 fits\n",
      "[CV] END ...................C=100.0, gamma=0.01, kernel=poly; total time= 2.0min\n",
      "[CV] END ...................C=100.0, gamma=0.01, kernel=poly; total time= 1.8min\n",
      "[CV] END ...................C=100.0, gamma=0.01, kernel=poly; total time= 1.9min\n",
      "Fitting 3 folds for each of 1 candidates, totalling 3 fits\n",
      "[CV] END .................C=0.1, gamma=0.001, kernel=sigmoid; total time=  24.6s\n",
      "[CV] END .................C=0.1, gamma=0.001, kernel=sigmoid; total time=  24.9s\n",
      "[CV] END .................C=0.1, gamma=0.001, kernel=sigmoid; total time=  24.8s\n",
      "Fitting 3 folds for each of 1 candidates, totalling 3 fits\n",
      "[CV] END ...................C=1.0, gamma=1.0, kernel=sigmoid; total time=  17.8s\n",
      "[CV] END ...................C=1.0, gamma=1.0, kernel=sigmoid; total time=  17.6s\n",
      "[CV] END ...................C=1.0, gamma=1.0, kernel=sigmoid; total time=  17.7s\n",
      "Fitting 3 folds for each of 1 candidates, totalling 3 fits\n",
      "[CV] END .............C=1000.0, gamma=0.0001, kernel=sigmoid; total time=  53.2s\n",
      "[CV] END .............C=1000.0, gamma=0.0001, kernel=sigmoid; total time=  52.5s\n",
      "[CV] END .............C=1000.0, gamma=0.0001, kernel=sigmoid; total time=  48.9s\n",
      "Fitting 3 folds for each of 1 candidates, totalling 3 fits\n",
      "[CV] END ..................C=1000.0, gamma=0.001, kernel=rbf; total time= 1.7min\n",
      "[CV] END ..................C=1000.0, gamma=0.001, kernel=rbf; total time= 1.6min\n",
      "[CV] END ..................C=1000.0, gamma=0.001, kernel=rbf; total time= 1.5min\n",
      "Fitting 3 folds for each of 1 candidates, totalling 3 fits\n",
      "[CV] END .................C=1000.0, gamma=0.0001, kernel=rbf; total time= 1.2min\n",
      "[CV] END .................C=1000.0, gamma=0.0001, kernel=rbf; total time= 1.2min\n",
      "[CV] END .................C=1000.0, gamma=0.0001, kernel=rbf; total time= 1.2min\n",
      "Fitting 3 folds for each of 1 candidates, totalling 3 fits\n",
      "[CV] END .................C=10.0, gamma=0.001, kernel=linear; total time= 4.4min\n",
      "[CV] END .................C=10.0, gamma=0.001, kernel=linear; total time= 4.9min\n",
      "[CV] END .................C=10.0, gamma=0.001, kernel=linear; total time= 5.2min\n",
      "Fitting 3 folds for each of 1 candidates, totalling 3 fits\n",
      "[CV] END ....................C=1.0, gamma=0.1, kernel=linear; total time= 3.4min\n",
      "[CV] END ....................C=1.0, gamma=0.1, kernel=linear; total time= 3.2min\n",
      "[CV] END ....................C=1.0, gamma=0.1, kernel=linear; total time= 3.3min\n"
     ]
    },
    {
     "name": "stderr",
     "output_type": "stream",
     "text": [
      "C:\\Users\\Zeus\\anaconda3\\lib\\site-packages\\skopt\\optimizer\\optimizer.py:449: UserWarning: The objective has been evaluated at this point before.\n",
      "  warnings.warn(\"The objective has been evaluated \"\n"
     ]
    },
    {
     "name": "stdout",
     "output_type": "stream",
     "text": [
      "Fitting 3 folds for each of 1 candidates, totalling 3 fits\n",
      "[CV] END ..................C=1000.0, gamma=0.001, kernel=rbf; total time= 1.7min\n",
      "[CV] END ..................C=1000.0, gamma=0.001, kernel=rbf; total time= 2.0min\n",
      "[CV] END ..................C=1000.0, gamma=0.001, kernel=rbf; total time= 1.9min\n",
      "Fitting 3 folds for each of 1 candidates, totalling 3 fits\n",
      "[CV] END .....................C=0.1, gamma=0.001, kernel=rbf; total time=  27.5s\n",
      "[CV] END .....................C=0.1, gamma=0.001, kernel=rbf; total time=  28.1s\n",
      "[CV] END .....................C=0.1, gamma=0.001, kernel=rbf; total time=  27.5s\n",
      "Fitting 3 folds for each of 1 candidates, totalling 3 fits\n",
      "[CV] END .................C=1.0, gamma=0.0001, kernel=linear; total time= 3.8min\n",
      "[CV] END .................C=1.0, gamma=0.0001, kernel=linear; total time= 3.2min\n",
      "[CV] END .................C=1.0, gamma=0.0001, kernel=linear; total time= 3.5min\n",
      "Fitting 3 folds for each of 1 candidates, totalling 3 fits\n",
      "[CV] END ..............C=1000.0, gamma=0.0001, kernel=linear; total time= 4.8min\n",
      "[CV] END ..............C=1000.0, gamma=0.0001, kernel=linear; total time= 4.9min\n",
      "[CV] END ..............C=1000.0, gamma=0.0001, kernel=linear; total time= 6.4min\n",
      "Fitting 3 folds for each of 1 candidates, totalling 3 fits\n",
      "[CV] END .....................C=1.0, gamma=0.01, kernel=poly; total time= 2.0min\n",
      "[CV] END .....................C=1.0, gamma=0.01, kernel=poly; total time= 2.0min\n",
      "[CV] END .....................C=1.0, gamma=0.01, kernel=poly; total time= 2.0min\n",
      "Fitting 3 folds for each of 1 candidates, totalling 3 fits\n",
      "[CV] END ....................C=1.0, gamma=1.0, kernel=linear; total time= 3.9min\n",
      "[CV] END ....................C=1.0, gamma=1.0, kernel=linear; total time= 3.5min\n",
      "[CV] END ....................C=1.0, gamma=1.0, kernel=linear; total time= 3.3min\n",
      "Fitting 3 folds for each of 1 candidates, totalling 3 fits\n",
      "[CV] END ...................C=1.0, gamma=0.01, kernel=linear; total time= 3.4min\n",
      "[CV] END ...................C=1.0, gamma=0.01, kernel=linear; total time= 3.1min\n",
      "[CV] END ...................C=1.0, gamma=0.01, kernel=linear; total time= 3.3min\n",
      "Fitting 3 folds for each of 1 candidates, totalling 3 fits\n",
      "[CV] END ..................C=1000.0, gamma=0.01, kernel=poly; total time= 1.6min\n",
      "[CV] END ..................C=1000.0, gamma=0.01, kernel=poly; total time= 1.5min\n",
      "[CV] END ..................C=1000.0, gamma=0.01, kernel=poly; total time= 1.9min\n",
      "Fitting 3 folds for each of 1 candidates, totalling 3 fits\n",
      "[CV] END .....................C=0.1, gamma=0.01, kernel=poly; total time= 1.5min\n",
      "[CV] END .....................C=0.1, gamma=0.01, kernel=poly; total time= 1.6min\n",
      "[CV] END .....................C=0.1, gamma=0.01, kernel=poly; total time= 1.5min\n",
      "Fitting 3 folds for each of 1 candidates, totalling 3 fits\n",
      "[CV] END .....................C=1.0, gamma=0.001, kernel=rbf; total time= 1.0min\n",
      "[CV] END .....................C=1.0, gamma=0.001, kernel=rbf; total time= 1.0min\n",
      "[CV] END .....................C=1.0, gamma=0.001, kernel=rbf; total time= 1.0min\n",
      "Fitting 3 folds for each of 1 candidates, totalling 3 fits\n",
      "[CV] END .................C=1.0, gamma=0.001, kernel=sigmoid; total time=  24.9s\n",
      "[CV] END .................C=1.0, gamma=0.001, kernel=sigmoid; total time=  27.3s\n",
      "[CV] END .................C=1.0, gamma=0.001, kernel=sigmoid; total time=  26.4s\n",
      "Fitting 3 folds for each of 1 candidates, totalling 3 fits\n",
      "[CV] END ....................C=10.0, gamma=0.001, kernel=rbf; total time= 1.1min\n",
      "[CV] END ....................C=10.0, gamma=0.001, kernel=rbf; total time= 1.1min\n",
      "[CV] END ....................C=10.0, gamma=0.001, kernel=rbf; total time= 1.1min\n",
      "Fitting 3 folds for each of 1 candidates, totalling 3 fits\n",
      "[CV] END .................C=100.0, gamma=0.1, kernel=sigmoid; total time=  17.1s\n",
      "[CV] END .................C=100.0, gamma=0.1, kernel=sigmoid; total time=  17.4s\n",
      "[CV] END .................C=100.0, gamma=0.1, kernel=sigmoid; total time=  17.4s\n"
     ]
    },
    {
     "name": "stderr",
     "output_type": "stream",
     "text": [
      "C:\\Users\\Zeus\\anaconda3\\lib\\site-packages\\skopt\\optimizer\\optimizer.py:449: UserWarning: The objective has been evaluated at this point before.\n",
      "  warnings.warn(\"The objective has been evaluated \"\n"
     ]
    },
    {
     "name": "stdout",
     "output_type": "stream",
     "text": [
      "Fitting 3 folds for each of 1 candidates, totalling 3 fits\n",
      "[CV] END ..................C=1000.0, gamma=0.001, kernel=rbf; total time= 1.7min\n",
      "[CV] END ..................C=1000.0, gamma=0.001, kernel=rbf; total time= 1.5min\n",
      "[CV] END ..................C=1000.0, gamma=0.001, kernel=rbf; total time= 1.6min\n"
     ]
    },
    {
     "name": "stderr",
     "output_type": "stream",
     "text": [
      "C:\\Users\\Zeus\\anaconda3\\lib\\site-packages\\skopt\\optimizer\\optimizer.py:449: UserWarning: The objective has been evaluated at this point before.\n",
      "  warnings.warn(\"The objective has been evaluated \"\n"
     ]
    },
    {
     "name": "stdout",
     "output_type": "stream",
     "text": [
      "Fitting 3 folds for each of 1 candidates, totalling 3 fits\n",
      "[CV] END ..................C=1000.0, gamma=0.001, kernel=rbf; total time= 1.7min\n",
      "[CV] END ..................C=1000.0, gamma=0.001, kernel=rbf; total time= 1.6min\n",
      "[CV] END ..................C=1000.0, gamma=0.001, kernel=rbf; total time= 1.5min\n"
     ]
    },
    {
     "name": "stderr",
     "output_type": "stream",
     "text": [
      "C:\\Users\\Zeus\\anaconda3\\lib\\site-packages\\skopt\\optimizer\\optimizer.py:449: UserWarning: The objective has been evaluated at this point before.\n",
      "  warnings.warn(\"The objective has been evaluated \"\n"
     ]
    },
    {
     "name": "stdout",
     "output_type": "stream",
     "text": [
      "Fitting 3 folds for each of 1 candidates, totalling 3 fits\n",
      "[CV] END ..................C=1000.0, gamma=0.001, kernel=rbf; total time= 1.7min\n",
      "[CV] END ..................C=1000.0, gamma=0.001, kernel=rbf; total time= 1.5min\n",
      "[CV] END ..................C=1000.0, gamma=0.001, kernel=rbf; total time= 1.5min\n",
      "Fitting 3 folds for each of 1 candidates, totalling 3 fits\n",
      "[CV] END ....................C=0.1, gamma=0.1, kernel=linear; total time= 2.3min\n",
      "[CV] END ....................C=0.1, gamma=0.1, kernel=linear; total time= 2.2min\n",
      "[CV] END ....................C=0.1, gamma=0.1, kernel=linear; total time= 2.3min\n"
     ]
    },
    {
     "name": "stderr",
     "output_type": "stream",
     "text": [
      "C:\\Users\\Zeus\\anaconda3\\lib\\site-packages\\skopt\\optimizer\\optimizer.py:449: UserWarning: The objective has been evaluated at this point before.\n",
      "  warnings.warn(\"The objective has been evaluated \"\n"
     ]
    },
    {
     "name": "stdout",
     "output_type": "stream",
     "text": [
      "Fitting 3 folds for each of 1 candidates, totalling 3 fits\n",
      "[CV] END ..................C=1000.0, gamma=0.001, kernel=rbf; total time= 1.7min\n",
      "[CV] END ..................C=1000.0, gamma=0.001, kernel=rbf; total time= 1.6min\n",
      "[CV] END ..................C=1000.0, gamma=0.001, kernel=rbf; total time= 1.5min\n",
      "Fitting 3 folds for each of 1 candidates, totalling 3 fits\n",
      "[CV] END .................C=100.0, gamma=0.01, kernel=linear; total time= 5.9min\n",
      "[CV] END .................C=100.0, gamma=0.01, kernel=linear; total time= 6.4min\n",
      "[CV] END .................C=100.0, gamma=0.01, kernel=linear; total time= 7.4min\n"
     ]
    },
    {
     "name": "stderr",
     "output_type": "stream",
     "text": [
      "C:\\Users\\Zeus\\anaconda3\\lib\\site-packages\\skopt\\optimizer\\optimizer.py:449: UserWarning: The objective has been evaluated at this point before.\n",
      "  warnings.warn(\"The objective has been evaluated \"\n"
     ]
    },
    {
     "name": "stdout",
     "output_type": "stream",
     "text": [
      "Fitting 3 folds for each of 1 candidates, totalling 3 fits\n",
      "[CV] END ..................C=1000.0, gamma=0.001, kernel=rbf; total time= 1.7min\n",
      "[CV] END ..................C=1000.0, gamma=0.001, kernel=rbf; total time= 1.6min\n",
      "[CV] END ..................C=1000.0, gamma=0.001, kernel=rbf; total time= 1.5min\n",
      "\n",
      "Best Score: -0.03132819893791961\n",
      "Best Hyperparameters:\n",
      "OrderedDict([('C', 1000.0), ('gamma', 0.001), ('kernel', 'rbf')])\n"
     ]
    }
   ],
   "source": [
    "# Find best hyperparameters and compare randomized search and Bayes Search\n",
    "model = tuneParams(model,gridSVC,X_train, y_train[\"label\"])"
   ]
  },
  {
   "cell_type": "code",
   "execution_count": 15,
   "metadata": {},
   "outputs": [
    {
     "data": {
      "text/plain": [
       "SVC(C=1000.0, gamma=0.001, probability=True)"
      ]
     },
     "execution_count": 15,
     "metadata": {},
     "output_type": "execute_result"
    }
   ],
   "source": [
    "model[\"clf\"]"
   ]
  },
  {
   "cell_type": "markdown",
   "metadata": {},
   "source": [
    "# **9. MODEL CALIBRATION**"
   ]
  },
  {
   "cell_type": "code",
   "execution_count": 16,
   "metadata": {},
   "outputs": [
    {
     "name": "stdout",
     "output_type": "stream",
     "text": [
      "Calibrating model...\n"
     ]
    }
   ],
   "source": [
    "\"\"\"\n",
    "    Calibrate models based on sigmoid method\n",
    "    @Param [model]    - Clean model\n",
    "    @Param [x]        - Training data features\n",
    "    @Param [y]        - Training data label\n",
    "    @Return           - Calibrated model\n",
    "\"\"\"\n",
    "def calibrate(model,x,y):\n",
    "    model = clone(Pipeline([ # cloning\n",
    "        (\"preprocess\",model[\"preprocess\"]),\n",
    "        (\"clf\",CalibratedClassifierCV(model[\"clf\"], method=\"sigmoid\", cv=5))\n",
    "    ]))\n",
    "\n",
    "    print(\"Calibrating model...\")\n",
    "    with parallel_backend(\"threading\", n_jobs=-1): # Using threading\n",
    "        return model.fit(x,y) \n",
    "\n",
    "model = calibrate(model,X_train, y_train[\"label\"])"
   ]
  },
  {
   "cell_type": "code",
   "execution_count": 17,
   "metadata": {},
   "outputs": [],
   "source": [
    "# Predict probabilities of true labels on validation data set\n",
    "probas = model.predict_proba(X_val)[:, 1]"
   ]
  },
  {
   "cell_type": "code",
   "execution_count": 18,
   "metadata": {},
   "outputs": [
    {
     "data": {
      "image/png": "[encoded data removed]",
      "text/plain": [
       "<Figure size 432x288 with 1 Axes>"
      ]
     },
     "metadata": {
      "needs_background": "light"
     },
     "output_type": "display_data"
    }
   ],
   "source": [
    "# plot the calibration curve and compare calibration of models\n",
    "x_p, y_p = calibration_curve(y_val[\"label\"], probas, n_bins=10, normalize=\"True\") \n",
    "\n",
    "plt.plot([0, 1], [0, 1],linestyle=\"--\",label=\"Ideal Calibration\")\n",
    "plt.plot(y_p,x_p,marker=\".\",label=\"SVC\")\n",
    "plt.xlabel(\"Predicted Probabilities\")\n",
    "plt.ylabel(\"True Probabilities\")\n",
    "plt.title(\"Calibration curves\")\n",
    "plt.legend()\n",
    "plt.show()"
   ]
  },
  {
   "cell_type": "markdown",
   "metadata": {},
   "source": [
    "# **10. THRESHOLD TUNNING**"
   ]
  },
  {
   "cell_type": "code",
   "execution_count": 19,
   "metadata": {},
   "outputs": [
    {
     "data": {
      "image/png": "[encoded data removed]",
      "text/plain": [
       "<Figure size 432x288 with 1 Axes>"
      ]
     },
     "metadata": {
      "needs_background": "light"
     },
     "output_type": "display_data"
    }
   ],
   "source": [
    "\"\"\"\n",
    "    \"Unlike the ROC Curve, a precision-recall curve focuses on the performance of a classifier on the positive (minority class) only\"\n",
    "    Source: https://machinelearningmastery.com/threshold-moving-for-imbalanced-classification/\n",
    "    @Param [classifier] - Classifier name\n",
    "    @Param [proba]      - Probability of being True \n",
    "    @Param [y]          - Actual label\n",
    "    @Return             - Optimal threshold\n",
    "\"\"\"\n",
    "def tuneThreshold(y,proba,classifier):\n",
    "    precision, recall, thresholds = precision_recall_curve(y[\"label\"], proba)\n",
    "    no_skill = len(y.loc[(y[\"label\"] == 1)]) / len(y[\"label\"])\n",
    " \n",
    "    fscore = (2 * precision * recall) / (precision + recall) # convert to f score\n",
    "    i = argmax(fscore)# locate the index of the largest f score\n",
    "    \n",
    "    # plot the roc curve for the model\n",
    "    plt.plot([0,1], [no_skill,no_skill], linestyle=\"--\", label=\"No Skill\")\n",
    "    plt.plot(recall, precision, marker=\".\", label=classifier)\n",
    "    plt.scatter(recall[i], precision[i], marker=\"o\", color=\"black\", label=\"Optimal Threshold\",zorder=3)\n",
    "\n",
    "    # axis labels\n",
    "    plt.suptitle(\"Find Best Threshold\")\n",
    "    plt.title(\"Best Threshold={0}, F-Score={1}\".format(round(thresholds[i],3), round(fscore[i],3)))\n",
    "    plt.xlabel(\"Recall\")\n",
    "    plt.ylabel(\"Precision\")\n",
    "    plt.legend()\n",
    "    \n",
    "    # show the plot\n",
    "    plt.show()\n",
    "   \n",
    "    return thresholds[i]\n",
    "\n",
    "# Find optimal threshold uing precision-recall curve. Focusing on positive labels as precision is important to us.\n",
    "thresh = tuneThreshold(y_val,probas,\"SVC\")"
   ]
  },
  {
   "cell_type": "markdown",
   "metadata": {},
   "source": [
    "# **11. MODEL SCORE**"
   ]
  },
  {
   "cell_type": "code",
   "execution_count": 20,
   "metadata": {},
   "outputs": [],
   "source": [
    "# Predict probabilities for labels\n",
    "with parallel_backend(\"threading\", n_jobs=-1): # Using threading\n",
    "    probaTest = model.predict_proba(X_test)"
   ]
  },
  {
   "cell_type": "code",
   "execution_count": 21,
   "metadata": {},
   "outputs": [
    {
     "name": "stdout",
     "output_type": "stream",
     "text": [
      "\n",
      "SVC Model:\n",
      "Brier Loss: 0.03475958167629606\n"
     ]
    }
   ],
   "source": [
    "# Compare models using brier score\n",
    "loss = brier_score_loss(y_test[\"label\"], probaTest[:, 1])\n",
    "\n",
    "print(\"\\nSVC Model:\")\n",
    "print(\"Brier Loss: {0}\".format(loss))"
   ]
  },
  {
   "cell_type": "code",
   "execution_count": 22,
   "metadata": {},
   "outputs": [],
   "source": [
    "# Apply optimal threshold\n",
    "predTest = (probaTest [:, 1] >= thresh) "
   ]
  },
  {
   "cell_type": "code",
   "execution_count": 23,
   "metadata": {},
   "outputs": [
    {
     "name": "stdout",
     "output_type": "stream",
     "text": [
      "SVC Results:\n"
     ]
    },
    {
     "data": {
      "image/png": "[encoded data removed]",
      "text/plain": [
       "<Figure size 432x288 with 2 Axes>"
      ]
     },
     "metadata": {
      "needs_background": "light"
     },
     "output_type": "display_data"
    },
    {
     "name": "stdout",
     "output_type": "stream",
     "text": [
      "\t\t\tClassification Report\n",
      "              precision    recall  f1-score   support\n",
      "\n",
      "           0       0.97      0.98      0.98      5513\n",
      "           1       0.72      0.62      0.67       393\n",
      "\n",
      "    accuracy                           0.96      5906\n",
      "   macro avg       0.85      0.80      0.82      5906\n",
      "weighted avg       0.96      0.96      0.96      5906\n",
      "\n",
      "F1 Score: 0.6666666666666667\n"
     ]
    }
   ],
   "source": [
    "\"\"\"\n",
    "    Display confussion matrix, classification report and F1 Score\n",
    "    @Param [pred]       - Predicted labels\n",
    "    @Param [y]          - Actual labels\n",
    "\"\"\"\n",
    "def displayResults(y, pred):\n",
    "    cm = confusion_matrix(y, pred)\n",
    "    sns.heatmap(cm,annot=True,cmap=\"YlGnBu\", fmt=\"d\")\n",
    "\n",
    "    plt.title(\"Confusion Matrix\")\n",
    "    plt.xlabel(\"Predicted\")\n",
    "    plt.ylabel(\"Actual\") \n",
    "    plt.show()\n",
    "\n",
    "    print(\"\\t\\t\\tClassification Report\\n{0}\".format(classification_report(y, pred)))\n",
    "    print(\"F1 Score: {0}\".format(f1_score(y, pred)))\n",
    "\n",
    "# Display results for SVC\n",
    "print(\"SVC Results:\")\n",
    "displayResults(y_test[\"label\"], predTest)"
   ]
  }
 ],
 "metadata": {
  "interpreter": {
   "hash": "63fd5069d213b44bf678585dea6b12cceca9941eaf7f819626cde1f2670de90d"
  },
  "kernelspec": {
   "display_name": "Python 3.9.6 64-bit",
   "name": "python3"
  },
  "language_info": {
   "codemirror_mode": {
    "name": "ipython",
    "version": 3
   },
   "file_extension": ".py",
   "mimetype": "text/x-python",
   "name": "python",
   "nbconvert_exporter": "python",
   "pygments_lexer": "ipython3",
   "version": "3.8.8"
  },
  "orig_nbformat": 4
 },
 "nbformat": 4,
 "nbformat_minor": 2
}
